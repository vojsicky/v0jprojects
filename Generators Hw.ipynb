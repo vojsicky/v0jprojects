{
 "cells": [
  {
   "cell_type": "code",
   "execution_count": 14,
   "metadata": {},
   "outputs": [],
   "source": [
    "#Problem 1\n",
    "# create gen that returns squares of numbers\n",
    "# in range 0 - n\n",
    "def gen_squares_up_to(n):\n",
    "    for el in range(n):\n",
    "        yield el**2"
   ]
  },
  {
   "cell_type": "code",
   "execution_count": 15,
   "metadata": {},
   "outputs": [
    {
     "data": {
      "text/plain": [
       "0"
      ]
     },
     "execution_count": 15,
     "metadata": {},
     "output_type": "execute_result"
    }
   ],
   "source": [
    "next(gen_squares_up_to(5))"
   ]
  },
  {
   "cell_type": "code",
   "execution_count": 16,
   "metadata": {},
   "outputs": [
    {
     "data": {
      "text/plain": [
       "0"
      ]
     },
     "execution_count": 16,
     "metadata": {},
     "output_type": "execute_result"
    }
   ],
   "source": [
    "next(gen_squares_up_to(5))"
   ]
  },
  {
   "cell_type": "code",
   "execution_count": 17,
   "metadata": {},
   "outputs": [
    {
     "data": {
      "text/plain": [
       "0"
      ]
     },
     "execution_count": 17,
     "metadata": {},
     "output_type": "execute_result"
    }
   ],
   "source": [
    "my_gen=gen_squares_up_to(5)\n",
    "next(my_gen)"
   ]
  },
  {
   "cell_type": "code",
   "execution_count": 18,
   "metadata": {},
   "outputs": [
    {
     "data": {
      "text/plain": [
       "1"
      ]
     },
     "execution_count": 18,
     "metadata": {},
     "output_type": "execute_result"
    }
   ],
   "source": [
    "next(my_gen)"
   ]
  },
  {
   "cell_type": "code",
   "execution_count": 19,
   "metadata": {},
   "outputs": [
    {
     "data": {
      "text/plain": [
       "4"
      ]
     },
     "execution_count": 19,
     "metadata": {},
     "output_type": "execute_result"
    }
   ],
   "source": [
    "next(my_gen)"
   ]
  },
  {
   "cell_type": "code",
   "execution_count": 20,
   "metadata": {},
   "outputs": [
    {
     "data": {
      "text/plain": [
       "9"
      ]
     },
     "execution_count": 20,
     "metadata": {},
     "output_type": "execute_result"
    }
   ],
   "source": [
    "next(my_gen)"
   ]
  },
  {
   "cell_type": "code",
   "execution_count": 21,
   "metadata": {},
   "outputs": [
    {
     "data": {
      "text/plain": [
       "16"
      ]
     },
     "execution_count": 21,
     "metadata": {},
     "output_type": "execute_result"
    }
   ],
   "source": [
    "next(my_gen)"
   ]
  },
  {
   "cell_type": "code",
   "execution_count": 22,
   "metadata": {},
   "outputs": [
    {
     "name": "stdout",
     "output_type": "stream",
     "text": [
      "0\n",
      "1\n",
      "4\n",
      "9\n",
      "16\n"
     ]
    }
   ],
   "source": [
    "my_gen=gen_squares_up_to(5)\n",
    "for x in my_gen:\n",
    "    print(x)"
   ]
  },
  {
   "cell_type": "code",
   "execution_count": 23,
   "metadata": {},
   "outputs": [],
   "source": [
    "#Problem 2\n",
    "# Create gen that yields n random numbers \n",
    "# between a low and high number that \n",
    "# are inputs.\n"
   ]
  },
  {
   "cell_type": "code",
   "execution_count": 36,
   "metadata": {},
   "outputs": [],
   "source": [
    "import random\n",
    "\n",
    "def randomizer_gen(low,high,n):\n",
    "    numbers=[]\n",
    "    for i in range(n):\n",
    "        numbers.append(random.randint(1,10))\n",
    "    print(numbers)\n",
    "    for el in numbers:\n",
    "        if el <=high and el >=low:\n",
    "            yield el\n",
    "        "
   ]
  },
  {
   "cell_type": "code",
   "execution_count": 37,
   "metadata": {},
   "outputs": [],
   "source": [
    "my_rands=randomizer_gen(5,10,3)"
   ]
  },
  {
   "cell_type": "code",
   "execution_count": 38,
   "metadata": {},
   "outputs": [
    {
     "name": "stdout",
     "output_type": "stream",
     "text": [
      "[9, 1, 5]\n",
      "===\n",
      "9\n",
      "===\n",
      "===\n",
      "5\n",
      "===\n"
     ]
    }
   ],
   "source": [
    "for el in my_rands:\n",
    "    print(\"===\")\n",
    "    print(el)\n",
    "    print(\"===\")"
   ]
  },
  {
   "cell_type": "code",
   "execution_count": 39,
   "metadata": {},
   "outputs": [],
   "source": [
    "#SINUS GENERATOR\n",
    "# initValue = 0 (or przesuniecie w fazie) \n",
    "# up to 1, then goes down to 0. \n",
    "# if curValue==0 and prevValue > curValue,"
   ]
  },
  {
   "cell_type": "code",
   "execution_count": 30,
   "metadata": {},
   "outputs": [],
   "source": [
    "import math\n",
    "\n",
    "            \n",
    "        \n",
    "\n",
    "        "
   ]
  },
  {
   "cell_type": "code",
   "execution_count": 35,
   "metadata": {},
   "outputs": [],
   "source": [
    "class SinusGenerator():\n",
    "    def __init__(self,amp,freq,dataResolution):\n",
    "        self.amp=amp\n",
    "        self.freq=freq\n",
    "        self.dataResolution=dataResolution\n",
    "        self.createGenerator(sin_generator,)\n",
    "        \n",
    "    def createGenerator(self,generatorType,name=\"default_name\"):\n",
    "        def sin_generator(amp,freq,dataResolution):\n",
    "            resolution=dataResolution\n",
    "            t=0\n",
    "            while True:\n",
    "                t=t+resolution\n",
    "                curValue = amp*math.sin(2*3.14*freq*t)\n",
    "                yield {t:curValue}\n",
    "        newGen=generatorType(self.amp,self.freq,self.dataResolution)\n",
    "    \n",
    "    def getNextPick(self,generatorType):\n",
    "        next(self.)\n",
    "        "
   ]
  },
  {
   "cell_type": "code",
   "execution_count": 36,
   "metadata": {},
   "outputs": [
    {
     "data": {
      "text/plain": [
       "10"
      ]
     },
     "execution_count": 36,
     "metadata": {},
     "output_type": "execute_result"
    }
   ],
   "source": [
    "new_gen=SinusGenerator(amp=10,freq=0.2,dataResolution=0.1)\n",
    "new_gen.amp"
   ]
  },
  {
   "cell_type": "code",
   "execution_count": 20,
   "metadata": {},
   "outputs": [],
   "source": [
    "def get_sin_generator_data(generatorName,seconds): \n",
    "    storedElements = []\n",
    "    while True:\n",
    "        nextElement=next(generatorName)\n",
    "        keyTemp=nextElement.keys()\n",
    "        for el in keyTemp:\n",
    "            key=el\n",
    "        if float(key)>float(seconds):\n",
    "            break\n",
    "        else:\n",
    "            storedElements.append(nextElement)\n",
    "    return storedElements"
   ]
  },
  {
   "cell_type": "code",
   "execution_count": 17,
   "metadata": {},
   "outputs": [
    {
     "data": {
      "text/plain": [
       "[{0.1: 1.2527002950839485},\n",
       " {0.2: 2.4856647575069966},\n",
       " {0.30000000000000004: 3.679468485396997},\n",
       " {0.4: 4.815303539859019},\n",
       " {0.5: 5.87527525713892},\n",
       " {0.6: 6.842684172472765},\n",
       " {0.7: 7.702289114015526},\n",
       " {0.7999999999999999: 8.4405473219009},\n",
       " {0.8999999999999999: 9.045827809444727},\n",
       " {0.9999999999999999: 9.5085946050647},\n",
       " {1.0999999999999999: 9.821556988007242},\n",
       " {1.2: 9.979784350972945},\n",
       " {1.3: 9.980783880022097},\n",
       " {1.4000000000000001: 9.824539827941955},\n",
       " {1.5000000000000002: 9.513513762338285},\n",
       " {1.6000000000000003: 9.052605784542601},\n",
       " {1.7000000000000004: 8.449077330316953},\n",
       " {1.8000000000000005: 7.712436768602768},\n",
       " {1.9000000000000006: 6.854289600663412}]"
      ]
     },
     "execution_count": 17,
     "metadata": {},
     "output_type": "execute_result"
    }
   ],
   "source": [
    "def restart_generator(generatorName):\n",
    "    generatorName=sin_generator"
   ]
  },
  {
   "cell_type": "code",
   "execution_count": null,
   "metadata": {},
   "outputs": [],
   "source": [
    "my_sin_gen=sin_generator(amp=10,freq=0.2,dataResolution=0.1)\n",
    "get_sin_generator_data(my_sin_gen,2)"
   ]
  },
  {
   "cell_type": "code",
   "execution_count": null,
   "metadata": {},
   "outputs": [],
   "source": []
  },
  {
   "cell_type": "code",
   "execution_count": null,
   "metadata": {},
   "outputs": [],
   "source": []
  }
 ],
 "metadata": {
  "kernelspec": {
   "display_name": "Python 3",
   "language": "python",
   "name": "python3"
  },
  "language_info": {
   "codemirror_mode": {
    "name": "ipython",
    "version": 3
   },
   "file_extension": ".py",
   "mimetype": "text/x-python",
   "name": "python",
   "nbconvert_exporter": "python",
   "pygments_lexer": "ipython3",
   "version": "3.7.1"
  }
 },
 "nbformat": 4,
 "nbformat_minor": 2
}
