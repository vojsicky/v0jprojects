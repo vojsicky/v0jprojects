{
 "cells": [
  {
   "cell_type": "code",
   "execution_count": null,
   "metadata": {},
   "outputs": [],
   "source": [
    "def inputValidate():\n",
    "    tempOutput=['','']\n",
    "    while type(tempOutput[0])!=int and type(tempOutput[1])!=int:\n",
    "        numbers=input('insert 2 numbers divided by \\',\\' : ')\n",
    "        tempRes=numbers.split(',')\n",
    "        tempOutput=[]\n",
    "        for el in tempRes:\n",
    "            try:\n",
    "                tempEl=int(el)\n",
    "                tempOutput.append(tempEl)\n",
    "            except ValueError:\n",
    "                continue\n",
    "        if len(tempOutput)<2:\n",
    "            tempOutput=['','']"
   ]
  },
  {
   "cell_type": "code",
   "execution_count": null,
   "metadata": {},
   "outputs": [],
   "source": []
  },
  {
   "cell_type": "code",
   "execution_count": null,
   "metadata": {},
   "outputs": [],
   "source": [
    "def readingFile():\n",
    "    try:\n",
    "        f=open('testwojsik','r')\n",
    "        f.write(\"text appended sucessfully\")\n",
    "        f.close()\n",
    "    except OSError:\n",
    "        print(\"Hey you have an OS Error\")"
   ]
  },
  {
   "cell_type": "code",
   "execution_count": null,
   "metadata": {},
   "outputs": [],
   "source": []
  },
  {
   "cell_type": "code",
   "execution_count": 3,
   "metadata": {},
   "outputs": [],
   "source": [
    "def ifInt():\n",
    "    while True:\n",
    "        try:\n",
    "            result=int(input('give me int: '))\n",
    "        except TypeError:\n",
    "            print('type Error, no thanks')\n",
    "            continue\n",
    "        except:\n",
    "            print(\"other error\")\n",
    "            continue\n",
    "        else:\n",
    "            print(\"yea thanks\")\n",
    "            break\n",
    "            "
   ]
  },
  {
   "cell_type": "code",
   "execution_count": 4,
   "metadata": {},
   "outputs": [
    {
     "name": "stdout",
     "output_type": "stream",
     "text": [
      "give me int: s\n",
      "other error\n",
      "other error\n",
      "give me int: 1\n",
      "yea thanks\n",
      "yea thanks\n"
     ]
    }
   ],
   "source": [
    "ifInt()"
   ]
  },
  {
   "cell_type": "code",
   "execution_count": null,
   "metadata": {},
   "outputs": [],
   "source": []
  },
  {
   "cell_type": "code",
   "execution_count": null,
   "metadata": {},
   "outputs": [],
   "source": [
    "\n",
    "\n",
    "\n"
   ]
  },
  {
   "cell_type": "code",
   "execution_count": null,
   "metadata": {},
   "outputs": [],
   "source": []
  }
 ],
 "metadata": {
  "kernelspec": {
   "display_name": "Python 3",
   "language": "python",
   "name": "python3"
  },
  "language_info": {
   "codemirror_mode": {
    "name": "ipython",
    "version": 3
   },
   "file_extension": ".py",
   "mimetype": "text/x-python",
   "name": "python",
   "nbconvert_exporter": "python",
   "pygments_lexer": "ipython3",
   "version": "3.7.1"
  }
 },
 "nbformat": 4,
 "nbformat_minor": 2
}
