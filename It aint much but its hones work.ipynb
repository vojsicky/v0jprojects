{
 "cells": [
  {
   "cell_type": "code",
   "execution_count": 21,
   "metadata": {},
   "outputs": [],
   "source": [
    "def blackjack(*args):\n",
    "    suma=sum(args)\n",
    "    if suma <= 21:\n",
    "        return suma\n",
    "    else:\n",
    "        if 11 in args:\n",
    "            return (suma-10)\n",
    "        else:\n",
    "            return 'BUST'\n"
   ]
  },
  {
   "cell_type": "code",
   "execution_count": 23,
   "metadata": {},
   "outputs": [
    {
     "data": {
      "text/plain": [
       "'BUST'"
      ]
     },
     "execution_count": 23,
     "metadata": {},
     "output_type": "execute_result"
    }
   ],
   "source": [
    "blackjack(33,10,1)"
   ]
  },
  {
   "cell_type": "code",
   "execution_count": 25,
   "metadata": {},
   "outputs": [],
   "source": [
    "#return sum of the numbers in array, excep ignore sections of\n",
    "#numbers starting with a 6 and extending to the next 9\n",
    "#return 0 for no numbers\n",
    "def summer_69(arr):\n",
    "    result=0\n",
    "    add=True\n",
    "    for number in arr:\n",
    "        if number == 6:\n",
    "            add = False\n",
    "        if number == 9:\n",
    "            add=True\n",
    "        if add==True and number not in [6,9]:\n",
    "            result+=number\n",
    "    return result\n",
    "            \n",
    "            \n",
    "    "
   ]
  },
  {
   "cell_type": "code",
   "execution_count": 34,
   "metadata": {},
   "outputs": [
    {
     "data": {
      "text/plain": [
       "14"
      ]
     },
     "execution_count": 34,
     "metadata": {},
     "output_type": "execute_result"
    }
   ],
   "source": [
    "summer_69([2,1,6,9,11])"
   ]
  },
  {
   "cell_type": "code",
   "execution_count": 74,
   "metadata": {},
   "outputs": [],
   "source": [
    "#if 007 is in order in array\n",
    "def spy_game(nums):\n",
    "    tempPatern=[0,0,7]\n",
    "    for number in nums:\n",
    "        if number == tempPatern[0]:\n",
    "            tempPatern.pop(0)\n",
    "        else:\n",
    "            tempPatern=[0,0,7]\n",
    "        if not tempPatern:\n",
    "            return '007 confirmed'\n",
    "    if not tempPatern:\n",
    "        return '007 confirmed'\n",
    "    else:\n",
    "        return 'nope'\n",
    "    "
   ]
  },
  {
   "cell_type": "code",
   "execution_count": 118,
   "metadata": {},
   "outputs": [],
   "source": [
    "#another way\n",
    "def spy_game1(nums):\n",
    "    counter=0\n",
    "    listLength=len(nums)\n",
    "    for number in nums:\n",
    "        if counter==listLength-2:\n",
    "            print('nochancetodance')\n",
    "            break\n",
    "        if number == 0 and nums[counter+1] == 0 and nums[counter+2] == 7:\n",
    "            return '007 confirmed'\n",
    "            break\n",
    "        counter=counter+1\n",
    "    print('it aint much but still honest work')"
   ]
  },
  {
   "cell_type": "code",
   "execution_count": 119,
   "metadata": {},
   "outputs": [
    {
     "data": {
      "text/plain": [
       "'007 confirmed'"
      ]
     },
     "execution_count": 119,
     "metadata": {},
     "output_type": "execute_result"
    }
   ],
   "source": [
    "spy_game1([1,2,3,0,7,0,0,7,0,1])"
   ]
  },
  {
   "cell_type": "code",
   "execution_count": null,
   "metadata": {},
   "outputs": [],
   "source": []
  }
 ],
 "metadata": {
  "kernelspec": {
   "display_name": "Python 3",
   "language": "python",
   "name": "python3"
  },
  "language_info": {
   "codemirror_mode": {
    "name": "ipython",
    "version": 3
   },
   "file_extension": ".py",
   "mimetype": "text/x-python",
   "name": "python",
   "nbconvert_exporter": "python",
   "pygments_lexer": "ipython3",
   "version": "3.7.1"
  }
 },
 "nbformat": 4,
 "nbformat_minor": 2
}
