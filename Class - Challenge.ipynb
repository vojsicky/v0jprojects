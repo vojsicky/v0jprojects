{
 "cells": [
  {
   "cell_type": "code",
   "execution_count": 115,
   "metadata": {},
   "outputs": [],
   "source": [
    "class Account:\n",
    "    def __init__(self,owner,balance):\n",
    "        self.owner=owner\n",
    "        self.balance=balance\n",
    "        \n",
    "    def withdraw(self,money):\n",
    "        curBalance=self.balance\n",
    "        if type(money) in (int,float) and curBalance>=money:\n",
    "            self.balance=self.balance-money\n",
    "            print(\"Hura , you got that money withdraw \\nMoney left: ${}\".format(self.balance))\n",
    "        elif type(money) in (int,float) and curBalance<money:\n",
    "            return \"Sory, but you dont have such amount of money on your account\"\n",
    "        elif type(money) not in (int,float):\n",
    "            return \"This is not a money\"\n",
    "    \n",
    "    def deposit(self,money):\n",
    "        if type(money) in (int,float):\n",
    "            self.balance=self.balance+money\n",
    "        else:\n",
    "            print(\"This is not a money\")\n",
    "    \n",
    "    def __str__(self):\n",
    "        return f\"This is account of:        {self.owner}\\nIts balance is equal to:   ${self.balance}\""
   ]
  },
  {
   "cell_type": "code",
   "execution_count": 116,
   "metadata": {},
   "outputs": [],
   "source": [
    "acct=Account('Joahim',100)"
   ]
  },
  {
   "cell_type": "code",
   "execution_count": 117,
   "metadata": {},
   "outputs": [
    {
     "name": "stdout",
     "output_type": "stream",
     "text": [
      "This is account of:        Joahim\n",
      "Its balance is equal to:   $100\n"
     ]
    }
   ],
   "source": [
    "print(acct)"
   ]
  },
  {
   "cell_type": "code",
   "execution_count": 118,
   "metadata": {},
   "outputs": [],
   "source": [
    " acct.deposit(200)"
   ]
  },
  {
   "cell_type": "code",
   "execution_count": 119,
   "metadata": {},
   "outputs": [
    {
     "data": {
      "text/plain": [
       "300"
      ]
     },
     "execution_count": 119,
     "metadata": {},
     "output_type": "execute_result"
    }
   ],
   "source": [
    "acct.balance"
   ]
  },
  {
   "cell_type": "code",
   "execution_count": 126,
   "metadata": {},
   "outputs": [],
   "source": [
    "acct.deposit(1200)"
   ]
  },
  {
   "cell_type": "code",
   "execution_count": 129,
   "metadata": {},
   "outputs": [
    {
     "name": "stdout",
     "output_type": "stream",
     "text": [
      "Hura , you got that money withdraw \n",
      "Money left: $1600\n"
     ]
    }
   ],
   "source": [
    "acct.withdraw(0)"
   ]
  },
  {
   "cell_type": "code",
   "execution_count": null,
   "metadata": {},
   "outputs": [],
   "source": []
  },
  {
   "cell_type": "code",
   "execution_count": null,
   "metadata": {},
   "outputs": [],
   "source": []
  }
 ],
 "metadata": {
  "kernelspec": {
   "display_name": "Python 3",
   "language": "python",
   "name": "python3"
  },
  "language_info": {
   "codemirror_mode": {
    "name": "ipython",
    "version": 3
   },
   "file_extension": ".py",
   "mimetype": "text/x-python",
   "name": "python",
   "nbconvert_exporter": "python",
   "pygments_lexer": "ipython3",
   "version": "3.7.1"
  }
 },
 "nbformat": 4,
 "nbformat_minor": 2
}
