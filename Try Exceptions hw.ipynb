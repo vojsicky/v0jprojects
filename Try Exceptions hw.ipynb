{
 "cells": [
  {
   "cell_type": "code",
   "execution_count": 3,
   "metadata": {},
   "outputs": [
    {
     "name": "stdout",
     "output_type": "stream",
     "text": [
      "1\n",
      "b is not a number\n",
      "c is not a number\n"
     ]
    }
   ],
   "source": [
    "for i in [1,'b','c']:\n",
    "    try:\n",
    "        print(i**2)\n",
    "    except TypeError:\n",
    "        print(f\"{i} is not a number\")\n",
    "        continue"
   ]
  },
  {
   "cell_type": "code",
   "execution_count": 8,
   "metadata": {},
   "outputs": [
    {
     "name": "stdout",
     "output_type": "stream",
     "text": [
      "z is heading to infinite\n",
      "All done\n"
     ]
    }
   ],
   "source": [
    "x=0\n",
    "y=6\n",
    "try:\n",
    "    z=y/x\n",
    "except ZeroDivisionError:\n",
    "    print(\"z is heading to infinite\")\n",
    "finally:\n",
    "    print(\"All done\")\n",
    "    \n",
    "    "
   ]
  },
  {
   "cell_type": "code",
   "execution_count": 10,
   "metadata": {},
   "outputs": [],
   "source": [
    "#Write a function that asks \n",
    "#for an integer and prints the square of if\n",
    "#while loop with try,except,else\n"
   ]
  },
  {
   "cell_type": "code",
   "execution_count": 1,
   "metadata": {},
   "outputs": [],
   "source": [
    "def ask():\n",
    "    while True:\n",
    "        try:\n",
    "            result=int(input(\"Input an Integer: \"))\n",
    "            squared=result**2\n",
    "        except:\n",
    "            print(\"An error occured. Please try again!\")\n",
    "        else:\n",
    "            print(f\"Input an integer {result}\")\n",
    "            print(f\"Thank you, your number squared is {squared}\")\n",
    "    "
   ]
  },
  {
   "cell_type": "code",
   "execution_count": null,
   "metadata": {},
   "outputs": [
    {
     "name": "stdout",
     "output_type": "stream",
     "text": [
      "Input an Integer: 2\n",
      "Input an integer 2\n",
      "Thank you, your number squared is 4\n",
      "Input an Integer: s\n",
      "An error occured. Please try again!\n",
      "Input an Integer: 4\n",
      "Input an integer 4\n",
      "Thank you, your number squared is 16\n"
     ]
    }
   ],
   "source": [
    "ask()"
   ]
  },
  {
   "cell_type": "code",
   "execution_count": null,
   "metadata": {},
   "outputs": [],
   "source": []
  }
 ],
 "metadata": {
  "kernelspec": {
   "display_name": "Python 3",
   "language": "python",
   "name": "python3"
  },
  "language_info": {
   "codemirror_mode": {
    "name": "ipython",
    "version": 3
   },
   "file_extension": ".py",
   "mimetype": "text/x-python",
   "name": "python",
   "nbconvert_exporter": "python",
   "pygments_lexer": "ipython3",
   "version": "3.7.1"
  }
 },
 "nbformat": 4,
 "nbformat_minor": 2
}
