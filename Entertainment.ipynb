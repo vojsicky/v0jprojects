{
 "cells": [
  {
   "cell_type": "code",
   "execution_count": 16,
   "metadata": {},
   "outputs": [],
   "source": [
    "val1=52\n",
    "val2=529\n",
    "mydict={\"key1\":val1,\"key2\":val2,\"ley3\":3,\"key4\":5}"
   ]
  },
  {
   "cell_type": "code",
   "execution_count": 17,
   "metadata": {},
   "outputs": [
    {
     "name": "stdout",
     "output_type": "stream",
     "text": [
      "52\n",
      "529\n",
      "3\n",
      "5\n"
     ]
    }
   ],
   "source": [
    "dictKeys=mydict.keys()\n",
    "for key in dictKeys:\n",
    "    print(mydict[key])"
   ]
  },
  {
   "cell_type": "code",
   "execution_count": 23,
   "metadata": {},
   "outputs": [
    {
     "name": "stdout",
     "output_type": "stream",
     "text": [
      "gqwdq 52\n",
      "gqwdq 529\n",
      "gqwdq 3\n",
      "gqwdq 5\n"
     ]
    }
   ],
   "source": [
    "for key in dictKeys:\n",
    "    print('gqwdq {}'.format(mydict[key]))"
   ]
  },
  {
   "cell_type": "code",
   "execution_count": 26,
   "metadata": {},
   "outputs": [
    {
     "name": "stdout",
     "output_type": "stream",
     "text": [
      "Key key1 and its value 52\n",
      "Key key2 and its value 529\n",
      "Key ley3 and its value 3\n",
      "Key key4 and its value 5\n"
     ]
    }
   ],
   "source": [
    "for key,value in mydict.items():\n",
    "    print('Key {} and its value {}'.format(key,value))"
   ]
  },
  {
   "cell_type": "code",
   "execution_count": 28,
   "metadata": {},
   "outputs": [
    {
     "data": {
      "text/plain": [
       "dict_values([52, 529, 3, 5])"
      ]
     },
     "execution_count": 28,
     "metadata": {},
     "output_type": "execute_result"
    }
   ],
   "source": [
    "letssort=mydict.values()\n",
    "letssort"
   ]
  },
  {
   "cell_type": "code",
   "execution_count": 30,
   "metadata": {},
   "outputs": [],
   "source": [
    "listOfVals = []\n",
    "for val in mydict.values():\n",
    "    listOfVals.append(val)\n",
    "listOfVals.sort()"
   ]
  },
  {
   "cell_type": "code",
   "execution_count": 31,
   "metadata": {},
   "outputs": [
    {
     "data": {
      "text/plain": [
       "[3, 5, 52, 529]"
      ]
     },
     "execution_count": 31,
     "metadata": {},
     "output_type": "execute_result"
    }
   ],
   "source": [
    "listOfVals"
   ]
  },
  {
   "cell_type": "code",
   "execution_count": 33,
   "metadata": {},
   "outputs": [],
   "source": [
    "sortedDict = {}\n",
    "for element in listOfVals:\n",
    "    for key in mydict.keys():\n",
    "        if mydict[key]==element:\n",
    "            sortedDict[key]=element"
   ]
  },
  {
   "cell_type": "code",
   "execution_count": 34,
   "metadata": {},
   "outputs": [
    {
     "data": {
      "text/plain": [
       "{'ley3': 3, 'key4': 5, 'key1': 52, 'key2': 529}"
      ]
     },
     "execution_count": 34,
     "metadata": {},
     "output_type": "execute_result"
    }
   ],
   "source": [
    "sortedDict"
   ]
  },
  {
   "cell_type": "code",
   "execution_count": null,
   "metadata": {},
   "outputs": [],
   "source": []
  }
 ],
 "metadata": {
  "kernelspec": {
   "display_name": "Python 3",
   "language": "python",
   "name": "python3"
  },
  "language_info": {
   "codemirror_mode": {
    "name": "ipython",
    "version": 3
   },
   "file_extension": ".py",
   "mimetype": "text/x-python",
   "name": "python",
   "nbconvert_exporter": "python",
   "pygments_lexer": "ipython3",
   "version": "3.7.1"
  }
 },
 "nbformat": 4,
 "nbformat_minor": 2
}
